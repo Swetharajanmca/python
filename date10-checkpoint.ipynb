{
 "cells": [
  {
   "cell_type": "code",
   "execution_count": 1,
   "id": "d926ff09-2bf8-43e9-a5e1-a0cead712de1",
   "metadata": {},
   "outputs": [
    {
     "name": "stdout",
     "output_type": "stream",
     "text": [
      "False\n",
      "False\n",
      "True\n"
     ]
    }
   ],
   "source": [
    "#logical operator\n",
    "a=5\n",
    "b=10\n",
    "c=50\n",
    "print(a<b and b<a)\n",
    "print(a>c and c>a)\n",
    "print(a<b and c>b)"
   ]
  },
  {
   "cell_type": "code",
   "execution_count": 2,
   "id": "01bd5f2f-011c-449b-929c-3f82f4a426bc",
   "metadata": {},
   "outputs": [
    {
     "name": "stdout",
     "output_type": "stream",
     "text": [
      "True\n",
      "True\n",
      "True\n"
     ]
    }
   ],
   "source": [
    "print(a<b or b<a)\n",
    "print(a>c or c>a)\n",
    "print(a<b or c>b)"
   ]
  },
  {
   "cell_type": "code",
   "execution_count": 8,
   "id": "0d411b8d-33ef-4329-93de-d2c8b169d904",
   "metadata": {},
   "outputs": [
    {
     "name": "stdout",
     "output_type": "stream",
     "text": [
      "False\n",
      "False\n",
      "True\n"
     ]
    }
   ],
   "source": [
    "print (not(a<b and c>b))\n",
    "print (not (a<b and c>b))\n",
    "print (not (a<b and c<b))"
   ]
  },
  {
   "cell_type": "code",
   "execution_count": 20,
   "id": "ef8bb5f8-efd4-44a1-bc62-e4bf1f14dd3e",
   "metadata": {},
   "outputs": [
    {
     "name": "stdout",
     "output_type": "stream",
     "text": [
      "i like kiwi\n"
     ]
    }
   ],
   "source": [
    "#task\n",
    "a=\" i like apple \"\n",
    "k1=a.strip()\n",
    "a=k1.replace(\"apple\",\"kiwi\")\n",
    "print(a)"
   ]
  },
  {
   "cell_type": "code",
   "execution_count": 26,
   "id": "4a9cecdf-fbc1-46c2-8fb7-798bbe65c634",
   "metadata": {},
   "outputs": [
    {
     "name": "stdout",
     "output_type": "stream",
     "text": [
      "True\n",
      "False\n"
     ]
    }
   ],
   "source": [
    "#identify operators\n",
    "a=[\"apple\"]\n",
    "b=[\"apple\"]\n",
    "c=a\n",
    "print(c is a)\n",
    "print(c is not a)"
   ]
  },
  {
   "cell_type": "code",
   "execution_count": 25,
   "id": "37e63ed3-af73-46a8-9708-a8b919eae18a",
   "metadata": {},
   "outputs": [
    {
     "name": "stdout",
     "output_type": "stream",
     "text": [
      "True\n",
      "False\n"
     ]
    }
   ],
   "source": [
    "#Membership operstors\n",
    "a=[\"apple\"]\n",
    "print(a is a)\n",
    "print(a is not a)"
   ]
  },
  {
   "cell_type": "code",
   "execution_count": null,
   "id": "35fa6b04-0ee8-48ce-bee4-c254b7d11e15",
   "metadata": {},
   "outputs": [],
   "source": []
  }
 ],
 "metadata": {
  "kernelspec": {
   "display_name": "Python 3 (ipykernel)",
   "language": "python",
   "name": "python3"
  },
  "language_info": {
   "codemirror_mode": {
    "name": "ipython",
    "version": 3
   },
   "file_extension": ".py",
   "mimetype": "text/x-python",
   "name": "python",
   "nbconvert_exporter": "python",
   "pygments_lexer": "ipython3",
   "version": "3.12.7"
  }
 },
 "nbformat": 4,
 "nbformat_minor": 5
}
