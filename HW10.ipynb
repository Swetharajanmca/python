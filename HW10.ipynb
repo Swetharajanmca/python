{
 "cells": [
  {
   "cell_type": "code",
   "execution_count": 1,
   "id": "09008833-6052-43de-8275-f1624ac996e5",
   "metadata": {},
   "outputs": [
    {
     "name": "stdout",
     "output_type": "stream",
     "text": [
      "4\n"
     ]
    }
   ],
   "source": [
    "#XOR\n",
    "print(6^2)"
   ]
  },
  {
   "cell_type": "code",
   "execution_count": 2,
   "id": "09981422-a55d-40f9-88da-28dcd2dbf6bf",
   "metadata": {},
   "outputs": [
    {
     "name": "stdout",
     "output_type": "stream",
     "text": [
      "27\n"
     ]
    }
   ],
   "source": [
    "print(18^9)"
   ]
  },
  {
   "cell_type": "code",
   "execution_count": 3,
   "id": "e9921a9d-f9aa-4dba-a65a-62ad506289f9",
   "metadata": {},
   "outputs": [
    {
     "name": "stdout",
     "output_type": "stream",
     "text": [
      "-4\n"
     ]
    }
   ],
   "source": [
    "#NOT\n",
    "print(~3)"
   ]
  },
  {
   "cell_type": "code",
   "execution_count": 4,
   "id": "b9f4a2a9-6d7b-4bac-8363-45ec58a37b9a",
   "metadata": {},
   "outputs": [
    {
     "name": "stdout",
     "output_type": "stream",
     "text": [
      "9\n"
     ]
    }
   ],
   "source": [
    "print(~-10)"
   ]
  },
  {
   "cell_type": "code",
   "execution_count": 5,
   "id": "f611547a-8c62-4b46-9436-75403c7401e8",
   "metadata": {},
   "outputs": [
    {
     "name": "stdout",
     "output_type": "stream",
     "text": [
      "40\n"
     ]
    }
   ],
   "source": [
    "#LEFT SHIFT\n",
    "a=10\n",
    "b=2\n",
    "print(10<<2)"
   ]
  },
  {
   "cell_type": "code",
   "execution_count": 7,
   "id": "bfd134d0-24d1-4773-adaa-94aef7c7b6b6",
   "metadata": {},
   "outputs": [
    {
     "name": "stdout",
     "output_type": "stream",
     "text": [
      "0\n"
     ]
    }
   ],
   "source": [
    "#RIGHT SHIFT\n",
    "a=10\n",
    "b=7\n",
    "print(10>>7)"
   ]
  },
  {
   "cell_type": "code",
   "execution_count": null,
   "id": "dde8feb4-d7a9-4b3e-a399-94e37ee447df",
   "metadata": {},
   "outputs": [],
   "source": []
  }
 ],
 "metadata": {
  "kernelspec": {
   "display_name": "Python 3 (ipykernel)",
   "language": "python",
   "name": "python3"
  },
  "language_info": {
   "codemirror_mode": {
    "name": "ipython",
    "version": 3
   },
   "file_extension": ".py",
   "mimetype": "text/x-python",
   "name": "python",
   "nbconvert_exporter": "python",
   "pygments_lexer": "ipython3",
   "version": "3.12.7"
  }
 },
 "nbformat": 4,
 "nbformat_minor": 5
}
