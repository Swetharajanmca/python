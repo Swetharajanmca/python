{
 "cells": [
  {
   "cell_type": "code",
   "execution_count": 1,
   "id": "ee6c0781-a092-4205-a77f-9a1cff46b513",
   "metadata": {},
   "outputs": [
    {
     "name": "stdout",
     "output_type": "stream",
     "text": [
      "0\n",
      "1\n",
      "2\n",
      "3\n",
      "4\n",
      "5\n",
      "6\n",
      "7\n",
      "8\n",
      "9\n"
     ]
    }
   ],
   "source": [
    "#loop(for loop)\n",
    "for i in range(10):\n",
    "    print(i)"
   ]
  },
  {
   "cell_type": "code",
   "execution_count": 2,
   "id": "98b5f9ef-3ba6-4cdf-96ed-e68ca587b7a4",
   "metadata": {},
   "outputs": [
    {
     "name": "stdout",
     "output_type": "stream",
     "text": [
      "1\n",
      "2\n",
      "3\n",
      "4\n",
      "5\n",
      "6\n",
      "7\n",
      "8\n",
      "9\n",
      "10\n"
     ]
    }
   ],
   "source": [
    "for i in range(1,11):\n",
    "    print(i)"
   ]
  },
  {
   "cell_type": "code",
   "execution_count": 3,
   "id": "929ff56f-9a28-4521-969c-11a3f04472c3",
   "metadata": {},
   "outputs": [
    {
     "name": "stdout",
     "output_type": "stream",
     "text": [
      "0\n",
      "2\n",
      "4\n",
      "6\n",
      "8\n",
      "10\n",
      "12\n",
      "14\n",
      "16\n",
      "18\n"
     ]
    }
   ],
   "source": [
    "for i in range(0,20,2):#add stepping value for add or even numbers\n",
    "    print(i)"
   ]
  },
  {
   "cell_type": "code",
   "execution_count": 11,
   "id": "bb7daced-bcd0-4310-9cb5-7758ca6e24b4",
   "metadata": {},
   "outputs": [
    {
     "name": "stdout",
     "output_type": "stream",
     "text": [
      "1\n",
      "2\n",
      "3\n",
      "5\n",
      "6\n",
      "19\n",
      "20\n"
     ]
    }
   ],
   "source": [
    "l=[1,2,3,5,6,19,20]\n",
    "for i in l:\n",
    "    print(i)\n"
   ]
  },
  {
   "cell_type": "code",
   "execution_count": 18,
   "id": "e301290f-cede-40ee-ac98-aec7f9df3c94",
   "metadata": {},
   "outputs": [
    {
     "name": "stdout",
     "output_type": "stream",
     "text": [
      "2\n",
      "6\n",
      "20\n"
     ]
    }
   ],
   "source": [
    "#key words i for loop\n",
    "#pass(skip)\n",
    "#continue(dont accept if condition print except if value)\n",
    "#break(stop loop)\n",
    "l=[1,2,3,5,6,19,20]\n",
    "for i in l:\n",
    "    if i %2==0:\n",
    "        print(i)\n"
   ]
  },
  {
   "cell_type": "code",
   "execution_count": 16,
   "id": "4775cb19-488f-44ca-9af0-6300a620c833",
   "metadata": {},
   "outputs": [
    {
     "name": "stdout",
     "output_type": "stream",
     "text": [
      "0\n",
      "5\n",
      "10\n",
      "15\n",
      "20\n",
      "25\n"
     ]
    }
   ],
   "source": [
    "\n",
    "for i in range(0,26):\n",
    "    if i %5==0:\n",
    "        print(i)\n",
    "    "
   ]
  },
  {
   "cell_type": "code",
   "execution_count": 19,
   "id": "f0bf1b83-fcc3-4ff0-b1f7-b1a39441a88d",
   "metadata": {},
   "outputs": [],
   "source": [
    "l=[1,2,3,5,6,19,20]\n",
    "for i in l:\n",
    "    if i %2==0:\n",
    "        continue\n",
    "        print(i)"
   ]
  },
  {
   "cell_type": "code",
   "execution_count": 24,
   "id": "09a449b2-cdcd-4ba9-9dce-1dbf636d88d9",
   "metadata": {},
   "outputs": [],
   "source": [
    "l=[1,2,3,5,6,19,20]\n",
    "for i in l:\n",
    "    if i %2==0:\n",
    "        break;\n",
    "        print(i)\n",
    "        "
   ]
  },
  {
   "cell_type": "code",
   "execution_count": null,
   "id": "33bf7c15-cdb1-47a7-8c73-750b4a0733c1",
   "metadata": {},
   "outputs": [],
   "source": []
  }
 ],
 "metadata": {
  "kernelspec": {
   "display_name": "Python 3 (ipykernel)",
   "language": "python",
   "name": "python3"
  },
  "language_info": {
   "codemirror_mode": {
    "name": "ipython",
    "version": 3
   },
   "file_extension": ".py",
   "mimetype": "text/x-python",
   "name": "python",
   "nbconvert_exporter": "python",
   "pygments_lexer": "ipython3",
   "version": "3.12.7"
  }
 },
 "nbformat": 4,
 "nbformat_minor": 5
}
