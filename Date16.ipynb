{
 "cells": [
  {
   "cell_type": "code",
   "execution_count": 8,
   "id": "2fe00344-7f6d-4ff4-a63b-a4f5668d47bc",
   "metadata": {},
   "outputs": [
    {
     "name": "stdout",
     "output_type": "stream",
     "text": [
      "{1, 3, 4, 5, 'apple', 'orange'}\n"
     ]
    }
   ],
   "source": [
    "#UNION\n",
    "set1 = {\"apple\",\"orange\"}\n",
    "set2 = {3,4,5,1}\n",
    "set3 = set1.union(set2)\n",
    "print(set3)"
   ]
  },
  {
   "cell_type": "code",
   "execution_count": 11,
   "id": "ee571e14-67d4-4e58-9dc5-9bbef0b16584",
   "metadata": {},
   "outputs": [
    {
     "name": "stdout",
     "output_type": "stream",
     "text": [
      "{1, 3, 4, 5, 'apple', 'orange'}\n"
     ]
    }
   ],
   "source": [
    "#update\n",
    "set1 = {\"apple\",\"orange\"}\n",
    "set2 = {3,4,5,1}\n",
    "set3 = set1.update(set2)\n",
    "print(set1)"
   ]
  },
  {
   "cell_type": "code",
   "execution_count": 22,
   "id": "9889efc9-2fbd-4255-963d-2fa90b084c3f",
   "metadata": {},
   "outputs": [
    {
     "name": "stdout",
     "output_type": "stream",
     "text": [
      "{'apple', 'orange'}\n"
     ]
    }
   ],
   "source": [
    "#INTERSECTION\n",
    "set1 = {\"apple\",\"orange\",\"watermelon\"}\n",
    "set2 = {\"apple\",\"grape\",\"mango\",\"orange\"}\n",
    "set3 = set1.intersection(set2)\n",
    "print(set3)"
   ]
  },
  {
   "cell_type": "code",
   "execution_count": 23,
   "id": "b6031d95-3e3e-4fe6-bb89-2277579856e8",
   "metadata": {},
   "outputs": [
    {
     "name": "stdout",
     "output_type": "stream",
     "text": [
      "('name', 'swetha')\n",
      "('degree', 'MCA')\n"
     ]
    }
   ],
   "source": [
    "#DICTIONARY\n",
    "a={\"name\":\"swetha\",\"degree\":\"MCA\"}\n",
    "for i in a.items():\n",
    "    print(i)"
   ]
  },
  {
   "cell_type": "code",
   "execution_count": 24,
   "id": "4a4e0ed5-4ac8-4529-a467-b2567621d01e",
   "metadata": {},
   "outputs": [
    {
     "name": "stdout",
     "output_type": "stream",
     "text": [
      "name\n",
      "degree\n"
     ]
    }
   ],
   "source": [
    "a={\"name\":\"swetha\",\"degree\":\"MCA\"}\n",
    "for i in a.keys():\n",
    "    print(i)"
   ]
  },
  {
   "cell_type": "code",
   "execution_count": 25,
   "id": "e38d8a73-2997-4f51-843f-14a600a0baa1",
   "metadata": {},
   "outputs": [
    {
     "name": "stdout",
     "output_type": "stream",
     "text": [
      "swetha\n",
      "MCA\n"
     ]
    }
   ],
   "source": [
    "a={\"name\":\"swetha\",\"degree\":\"MCA\"}\n",
    "for i in a.values():\n",
    "    print(i)"
   ]
  },
  {
   "cell_type": "code",
   "execution_count": 32,
   "id": "9b1ea241-d6e6-4121-b246-d394e8f4a0c5",
   "metadata": {},
   "outputs": [
    {
     "data": {
      "text/plain": [
       "{'child1': {'name': 'Emil', 'year': 2004},\n",
       " 'child2': {'name': 'Tobias', 'year': 2007},\n",
       " 'child3': {'name': 'Linus', 'year': 2011}}"
      ]
     },
     "execution_count": 32,
     "metadata": {},
     "output_type": "execute_result"
    }
   ],
   "source": [
    "myfamily = {\n",
    "  \"child1\" : {\"name\" : \"Emil\",\"year\" : 2004 },\n",
    "  \"child2\" : {\"name\" : \"Tobias\",\"year\" : 2007},\n",
    "  \"child3\" : {\"name\" : \"Linus\",\"year\" : 2011}\n",
    "}\n",
    "\n",
    "myfamily"
   ]
  },
  {
   "cell_type": "code",
   "execution_count": 37,
   "id": "71c3810b-a4c6-4051-945a-f350c6790a67",
   "metadata": {},
   "outputs": [
    {
     "data": {
      "text/plain": [
       "{'name': 'Tobias', 'year': 2007}"
      ]
     },
     "execution_count": 37,
     "metadata": {},
     "output_type": "execute_result"
    }
   ],
   "source": [
    "myfamily[\"child2\"]"
   ]
  },
  {
   "cell_type": "code",
   "execution_count": null,
   "id": "4d9abf48-4f19-4508-9547-9ad864360a7b",
   "metadata": {},
   "outputs": [],
   "source": []
  }
 ],
 "metadata": {
  "kernelspec": {
   "display_name": "Python 3 (ipykernel)",
   "language": "python",
   "name": "python3"
  },
  "language_info": {
   "codemirror_mode": {
    "name": "ipython",
    "version": 3
   },
   "file_extension": ".py",
   "mimetype": "text/x-python",
   "name": "python",
   "nbconvert_exporter": "python",
   "pygments_lexer": "ipython3",
   "version": "3.12.7"
  }
 },
 "nbformat": 4,
 "nbformat_minor": 5
}
