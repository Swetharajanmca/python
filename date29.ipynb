{
 "cells": [
  {
   "cell_type": "code",
   "execution_count": null,
   "id": "440b26fc-8e01-4137-aa29-35aadf98e6c7",
   "metadata": {},
   "outputs": [],
   "source": [
    "l=[1,2,3,4,4,2,1,3,4]#check duplicates\n",
    "m=[]\n",
    "for i in l:\n",
    "    if i not in m:\n",
    "        m.append(i)\n",
    "print(m)"
   ]
  },
  {
   "cell_type": "code",
   "execution_count": null,
   "id": "06265bc3-8f6e-4e62-a936-8c961b2ecddb",
   "metadata": {},
   "outputs": [],
   "source": [
    "num = int(input(\"Enter the value: \"))\n",
    "if num > 1:\n",
    "    is_prime = True\n",
    "    for i in range(2, num):\n",
    "        if num % i == 0:\n",
    "            is_prime = False\n",
    "            break\n",
    "    if is_prime:\n",
    "        print(num, \"is a prime number\")\n",
    "    else:\n",
    "        print(num, \"is not prime\")\n",
    "else:\n",
    "    print(num, \"is not a prime\")"
   ]
  },
  {
   "cell_type": "code",
   "execution_count": 1,
   "id": "0346045f-6131-414e-838f-e678718961cf",
   "metadata": {},
   "outputs": [
    {
     "name": "stdin",
     "output_type": "stream",
     "text": [
      "Enter the value:  7\n"
     ]
    },
    {
     "name": "stdout",
     "output_type": "stream",
     "text": [
      "7 is a prime number\n"
     ]
    }
   ],
   "source": [
    "num = int(input(\"Enter the value: \"))\n",
    "if num > 1:\n",
    "    is_prime = True\n",
    "    for i in range(2, num):\n",
    "        if num % i == 0:\n",
    "            is_prime = False\n",
    "            break\n",
    "    if is_prime:\n",
    "        print(num, \"is a prime number\")\n",
    "    else:\n",
    "        print(num, \"is not prime\")\n",
    "else:\n",
    "    print(num, \"is not a prime\")"
   ]
  },
  {
   "cell_type": "markdown",
   "id": "581b5fb4-13ec-4b03-8f25-32d18a27e2c4",
   "metadata": {},
   "source": [
    "##### num = int(input(\"Enter the value: \"))\n",
    "if num > 1:\n",
    "    is_prime = True\n",
    "    for i in range(2, num):\n",
    "        if num % i == 0:\n",
    "            is_prime = False\n",
    "            break\n",
    "    if is_prime:\n",
    "        print(num, \"is a prime number\")\n",
    "    else:\n",
    "        print(num, \"is not prime\")\n",
    "else:\n",
    "    print(num, \"is not a prime\")"
   ]
  },
  {
   "cell_type": "code",
   "execution_count": 1,
   "id": "0333565c-89db-4c39-87cd-f237ca553bfb",
   "metadata": {},
   "outputs": [
    {
     "name": "stdout",
     "output_type": "stream",
     "text": [
      "1 1\n",
      "1 2\n",
      "1 3\n",
      "1 4\n",
      "2 1\n",
      "2 2\n",
      "2 3\n",
      "2 4\n",
      "3 1\n",
      "3 2\n",
      "3 3\n",
      "3 4\n",
      "4 1\n",
      "4 2\n",
      "4 3\n",
      "4 4\n"
     ]
    }
   ],
   "source": [
    "l=[1,2,3,4]\n",
    "for i in l:\n",
    "    for j in l:\n",
    "        print(i,j)"
   ]
  },
  {
   "cell_type": "code",
   "execution_count": 9,
   "id": "7247b231-c704-4fb3-8140-5f372aab1360",
   "metadata": {},
   "outputs": [
    {
     "name": "stdout",
     "output_type": "stream",
     "text": [
      "76\n"
     ]
    }
   ],
   "source": [
    "f=[1,78,76,4]\n",
    "for i in range(len(f)):\n",
    "    for j in range(len(f)):\n",
    "        if f[i]>f[j]:\n",
    "            f[i],f[j]=f[j],f[i]\n",
    "print(f[1])\n",
    "#1 means 2nd largest num\n",
    "#0 means largest num\n",
    "#-1 means smallest num\n"
   ]
  },
  {
   "cell_type": "code",
   "execution_count": null,
   "id": "7489f3fa-4549-41a1-8a88-1f8a159e0700",
   "metadata": {},
   "outputs": [],
   "source": []
  },
  {
   "cell_type": "code",
   "execution_count": null,
   "id": "1bf109a4-5a49-4734-b3cc-3561b597f163",
   "metadata": {},
   "outputs": [],
   "source": []
  }
 ],
 "metadata": {
  "kernelspec": {
   "display_name": "Python 3 (ipykernel)",
   "language": "python",
   "name": "python3"
  },
  "language_info": {
   "codemirror_mode": {
    "name": "ipython",
    "version": 3
   },
   "file_extension": ".py",
   "mimetype": "text/x-python",
   "name": "python",
   "nbconvert_exporter": "python",
   "pygments_lexer": "ipython3",
   "version": "3.12.7"
  }
 },
 "nbformat": 4,
 "nbformat_minor": 5
}
