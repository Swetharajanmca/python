{
 "cells": [
  {
   "cell_type": "code",
   "execution_count": 1,
   "id": "dc1a1470-0ede-4d2d-a5e6-186e126e4074",
   "metadata": {},
   "outputs": [
    {
     "name": "stdout",
     "output_type": "stream",
     "text": [
      "                      hello                       \n",
      "5\n",
      "50\n"
     ]
    }
   ],
   "source": [
    "a=\"hello\"\n",
    "x=a.center(50)\n",
    "print(x)\n",
    "print(len(a))\n",
    "print(len(x))"
   ]
  },
  {
   "cell_type": "code",
   "execution_count": null,
   "id": "8d35eb7b-7b55-4389-b12c-cd2522634eb9",
   "metadata": {},
   "outputs": [],
   "source": []
  }
 ],
 "metadata": {
  "kernelspec": {
   "display_name": "Python 3 (ipykernel)",
   "language": "python",
   "name": "python3"
  },
  "language_info": {
   "codemirror_mode": {
    "name": "ipython",
    "version": 3
   },
   "file_extension": ".py",
   "mimetype": "text/x-python",
   "name": "python",
   "nbconvert_exporter": "python",
   "pygments_lexer": "ipython3",
   "version": "3.12.4"
  }
 },
 "nbformat": 4,
 "nbformat_minor": 5
}
