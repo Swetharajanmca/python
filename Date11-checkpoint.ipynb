{
 "cells": [
  {
   "cell_type": "code",
   "execution_count": 1,
   "id": "65188e84-b6ee-4484-aa91-255aefc2e5be",
   "metadata": {},
   "outputs": [
    {
     "name": "stdout",
     "output_type": "stream",
     "text": [
      "a is greater\n"
     ]
    }
   ],
   "source": [
    "# IF CONDITION USING AND\n",
    "a=100\n",
    "b=50\n",
    "c=20\n",
    "if (a>b and a>c):\n",
    "    print(\"a is greater\")\n",
    "elif(b>a and b>c):\n",
    "    print(\"b is greater\")\n",
    "else:\n",
    "    print(\"c is greater\")\n",
    "    "
   ]
  },
  {
   "cell_type": "code",
   "execution_count": 3,
   "id": "3ffac0b4-b0e2-437d-af43-6e31b73fc204",
   "metadata": {},
   "outputs": [
    {
     "name": "stdout",
     "output_type": "stream",
     "text": [
      "a is greater\n"
     ]
    }
   ],
   "source": [
    "# IF CONDITION USING OR\n",
    "a=50\n",
    "b=150\n",
    "c=20\n",
    "if (a>b or a>c):# condition true this line(a>c) so print first if condition\n",
    "    print(\"a is greater\")\n",
    "elif(b>a or b>c):\n",
    "    print(\"b is greater\")\n",
    "else:\n",
    "    print(\"c is greater\")"
   ]
  },
  {
   "cell_type": "code",
   "execution_count": 10,
   "id": "3b38a85b-e066-48b3-af0e-05ed03edc42c",
   "metadata": {},
   "outputs": [
    {
     "name": "stdout",
     "output_type": "stream",
     "text": [
      "[1, 2, 3, 4, 5]\n"
     ]
    }
   ],
   "source": [
    "#LIST[] MUTABLE\n",
    "l=[1,2,3,4]\n",
    "l.append(5)\n",
    "print(l)"
   ]
  },
  {
   "cell_type": "code",
   "execution_count": 17,
   "id": "01a64a3d-a7fa-4a8e-a7e6-7f7bc69dba54",
   "metadata": {},
   "outputs": [
    {
     "name": "stdout",
     "output_type": "stream",
     "text": [
      "[1, 2, 0, 4]\n"
     ]
    }
   ],
   "source": [
    "l=[1,2,3,4]#update\n",
    "l[2]=0\n",
    "print(l)\n"
   ]
  },
  {
   "cell_type": "code",
   "execution_count": 12,
   "id": "fbbe4e6f-4136-4468-bc28-389596879c54",
   "metadata": {},
   "outputs": [
    {
     "name": "stdout",
     "output_type": "stream",
     "text": [
      "[1, 2, 3, 6, 4]\n"
     ]
    }
   ],
   "source": [
    "l=[1,2,3,4]#insert\n",
    "l.insert(3,6)\n",
    "print(l)"
   ]
  },
  {
   "cell_type": "code",
   "execution_count": 14,
   "id": "b3da4073-6a3c-4b19-be3f-c673764f3317",
   "metadata": {},
   "outputs": [
    {
     "name": "stdout",
     "output_type": "stream",
     "text": [
      "[1, 2, 3]\n"
     ]
    }
   ],
   "source": [
    "l=[1,2,3,4]#pop\n",
    "l.pop()\n",
    "print(l)"
   ]
  },
  {
   "cell_type": "code",
   "execution_count": 15,
   "id": "02d78784-1438-463a-84cc-b857edf83e04",
   "metadata": {},
   "outputs": [
    {
     "name": "stdout",
     "output_type": "stream",
     "text": [
      "[2, 3, 4]\n"
     ]
    }
   ],
   "source": [
    "l=[1,2,3,4]#pop by index\n",
    "l.pop(0)\n",
    "print(l)"
   ]
  },
  {
   "cell_type": "code",
   "execution_count": 16,
   "id": "1ce0f33e-bf8e-44a1-bd4b-c5588b32e854",
   "metadata": {},
   "outputs": [
    {
     "name": "stdout",
     "output_type": "stream",
     "text": [
      "[1, 2, 3]\n"
     ]
    }
   ],
   "source": [
    "l=[1,2,3,4]#remove\n",
    "l.remove(4)\n",
    "print(l)"
   ]
  },
  {
   "cell_type": "code",
   "execution_count": 25,
   "id": "d508d012-5ab6-40b2-aee2-340e72ffeb31",
   "metadata": {},
   "outputs": [
    {
     "data": {
      "text/plain": [
       "[1, 2, 3]"
      ]
     },
     "execution_count": 25,
     "metadata": {},
     "output_type": "execute_result"
    }
   ],
   "source": [
    "l=[1,2,3,4]\n",
    "l[0:3]"
   ]
  },
  {
   "cell_type": "code",
   "execution_count": 30,
   "id": "a8163752-677f-4763-801a-f82beead4862",
   "metadata": {},
   "outputs": [
    {
     "data": {
      "text/plain": [
       "'23'"
      ]
     },
     "execution_count": 30,
     "metadata": {},
     "output_type": "execute_result"
    }
   ],
   "source": [
    "l=\"1234\"#slicing\n",
    "l[-3:-1]"
   ]
  },
  {
   "cell_type": "code",
   "execution_count": 32,
   "id": "344d69a8-ef7b-4a9a-822b-7aadc6bd2ea4",
   "metadata": {},
   "outputs": [
    {
     "data": {
      "text/plain": [
       "'123'"
      ]
     },
     "execution_count": 32,
     "metadata": {},
     "output_type": "execute_result"
    }
   ],
   "source": [
    "l=\"1234\"\n",
    "l[0:3]"
   ]
  },
  {
   "cell_type": "code",
   "execution_count": null,
   "id": "81963e1b-b0b7-489c-92e3-e8d834e493c7",
   "metadata": {},
   "outputs": [],
   "source": []
  }
 ],
 "metadata": {
  "kernelspec": {
   "display_name": "Python 3 (ipykernel)",
   "language": "python",
   "name": "python3"
  },
  "language_info": {
   "codemirror_mode": {
    "name": "ipython",
    "version": 3
   },
   "file_extension": ".py",
   "mimetype": "text/x-python",
   "name": "python",
   "nbconvert_exporter": "python",
   "pygments_lexer": "ipython3",
   "version": "3.12.7"
  }
 },
 "nbformat": 4,
 "nbformat_minor": 5
}
