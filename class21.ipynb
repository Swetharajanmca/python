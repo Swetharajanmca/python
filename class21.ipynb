{
 "cells": [
  {
   "cell_type": "code",
   "execution_count": 1,
   "id": "c5bca358-f146-4482-b433-6011e0f269a0",
   "metadata": {},
   "outputs": [
    {
     "name": "stdout",
     "output_type": "stream",
     "text": [
      "how k1e yom\n"
     ]
    }
   ],
   "source": [
    "k=\"how are you\"\n",
    "k1=k.replace(\"u\",\"m\")\n",
    "k2=k1.replace(\"r\",\"1\")\n",
    "k3=k2.replace(k[4],\"k\")\n",
    "print(k3)\n",
    "\n"
   ]
  },
  {
   "cell_type": "markdown",
   "id": "b57db32c-3655-4f08-8ded-1928f7300a49",
   "metadata": {},
   "source": [
    "# age=int(input(\"enter your age:\"))\n",
    "if(age>40):\n",
    "    print(\"aged\")\n",
    "if(age<40 and age>18):\n",
    "    print(\"adult\")\n",
    "elif(age<18):\n",
    "    print(\"child\")\n",
    "else:\n",
    "    (age<0)\n",
    "    print(\"invalid\")"
   ]
  },
  {
   "cell_type": "code",
   "execution_count": null,
   "id": "e284a26a-f690-46ff-8307-72b2076cae5e",
   "metadata": {},
   "outputs": [],
   "source": []
  },
  {
   "cell_type": "markdown",
   "id": "2d1ec00b-8a35-4eb4-a122-75e5c162bab1",
   "metadata": {},
   "source": [
    "age=int(input(\"enter your age:\"))\n",
    "if(age>40):\n",
    "    print(\"aged\")\n",
    "elif(age<40 and age>18):\n",
    "    print(\"adult\")\n",
    "else:\n",
    "    print(\"chid\")"
   ]
  },
  {
   "cell_type": "code",
   "execution_count": null,
   "id": "eaca7419-62bc-4c64-9f70-6641c86783b3",
   "metadata": {},
   "outputs": [],
   "source": []
  }
 ],
 "metadata": {
  "kernelspec": {
   "display_name": "Python 3 (ipykernel)",
   "language": "python",
   "name": "python3"
  },
  "language_info": {
   "codemirror_mode": {
    "name": "ipython",
    "version": 3
   },
   "file_extension": ".py",
   "mimetype": "text/x-python",
   "name": "python",
   "nbconvert_exporter": "python",
   "pygments_lexer": "ipython3",
   "version": "3.12.7"
  }
 },
 "nbformat": 4,
 "nbformat_minor": 5
}
